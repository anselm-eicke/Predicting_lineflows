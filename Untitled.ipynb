{
 "cells": [
  {
   "cell_type": "code",
   "execution_count": 78,
   "metadata": {},
   "outputs": [],
   "source": [
    "import pandas as pd"
   ]
  },
  {
   "cell_type": "code",
   "execution_count": 79,
   "metadata": {
    "scrolled": true
   },
   "outputs": [],
   "source": [
    "df = pd.read_csv(\"./Data/Raw Data/Forecasted_generation.csv\")"
   ]
  },
  {
   "cell_type": "code",
   "execution_count": 80,
   "metadata": {},
   "outputs": [],
   "source": [
    "df['Datetime'] = df['Datum'] + ' ' + df['Uhrzeit']"
   ]
  },
  {
   "cell_type": "code",
   "execution_count": 81,
   "metadata": {},
   "outputs": [],
   "source": [
    "df.index = pd.DatetimeIndex(df['Datetime'])"
   ]
  },
  {
   "cell_type": "code",
   "execution_count": 82,
   "metadata": {},
   "outputs": [],
   "source": [
    "df = df.drop(['Datum', 'Uhrzeit', 'Datetime'], axis = 1)"
   ]
  },
  {
   "cell_type": "code",
   "execution_count": 83,
   "metadata": {},
   "outputs": [],
   "source": [
    "df = df.replace('-',0)"
   ]
  },
  {
   "cell_type": "code",
   "execution_count": 84,
   "metadata": {},
   "outputs": [],
   "source": [
    "df['Gesamt[MWh]'] = df['Gesamt[MWh]'].astype(float)\n",
    "df['Wind Offshore[MWh]'] = df['Wind Offshore[MWh]'].astype(float)\n",
    "df['Wind Onshore[MWh]'] = df['Wind Onshore[MWh]'].astype(float)\n",
    "df['Photovoltaik[MWh]'] = df['Photovoltaik[MWh]'].astype(float)\n",
    "df['Sonstige[MWh]'] = df['Sonstige[MWh]'].astype(float)"
   ]
  },
  {
   "cell_type": "code",
   "execution_count": 85,
   "metadata": {},
   "outputs": [],
   "source": [
    "df_small = df.resample('H').sum()"
   ]
  },
  {
   "cell_type": "code",
   "execution_count": 86,
   "metadata": {},
   "outputs": [
    {
     "data": {
      "text/html": [
       "<div>\n",
       "<style scoped>\n",
       "    .dataframe tbody tr th:only-of-type {\n",
       "        vertical-align: middle;\n",
       "    }\n",
       "\n",
       "    .dataframe tbody tr th {\n",
       "        vertical-align: top;\n",
       "    }\n",
       "\n",
       "    .dataframe thead th {\n",
       "        text-align: right;\n",
       "    }\n",
       "</style>\n",
       "<table border=\"1\" class=\"dataframe\">\n",
       "  <thead>\n",
       "    <tr style=\"text-align: right;\">\n",
       "      <th></th>\n",
       "      <th>Gesamt[MWh]</th>\n",
       "      <th>Wind Offshore[MWh]</th>\n",
       "      <th>Wind Onshore[MWh]</th>\n",
       "      <th>Photovoltaik[MWh]</th>\n",
       "      <th>Sonstige[MWh]</th>\n",
       "    </tr>\n",
       "    <tr>\n",
       "      <th>Datetime</th>\n",
       "      <th></th>\n",
       "      <th></th>\n",
       "      <th></th>\n",
       "      <th></th>\n",
       "      <th></th>\n",
       "    </tr>\n",
       "  </thead>\n",
       "  <tbody>\n",
       "    <tr>\n",
       "      <th>2015-01-01 00:00:00</th>\n",
       "      <td>10575.0</td>\n",
       "      <td>46.0</td>\n",
       "      <td>2970.0</td>\n",
       "      <td>0.0</td>\n",
       "      <td>7560.0</td>\n",
       "    </tr>\n",
       "    <tr>\n",
       "      <th>2015-01-01 01:00:00</th>\n",
       "      <td>10205.0</td>\n",
       "      <td>48.0</td>\n",
       "      <td>3028.0</td>\n",
       "      <td>0.0</td>\n",
       "      <td>7130.0</td>\n",
       "    </tr>\n",
       "    <tr>\n",
       "      <th>2015-01-01 02:00:00</th>\n",
       "      <td>10080.0</td>\n",
       "      <td>48.0</td>\n",
       "      <td>3089.0</td>\n",
       "      <td>0.0</td>\n",
       "      <td>6944.0</td>\n",
       "    </tr>\n",
       "    <tr>\n",
       "      <th>2015-01-01 03:00:00</th>\n",
       "      <td>9725.0</td>\n",
       "      <td>48.0</td>\n",
       "      <td>3113.0</td>\n",
       "      <td>0.0</td>\n",
       "      <td>6566.0</td>\n",
       "    </tr>\n",
       "    <tr>\n",
       "      <th>2015-01-01 04:00:00</th>\n",
       "      <td>10065.0</td>\n",
       "      <td>48.0</td>\n",
       "      <td>3113.0</td>\n",
       "      <td>0.0</td>\n",
       "      <td>6906.0</td>\n",
       "    </tr>\n",
       "  </tbody>\n",
       "</table>\n",
       "</div>"
      ],
      "text/plain": [
       "                     Gesamt[MWh]  Wind Offshore[MWh]  Wind Onshore[MWh]  \\\n",
       "Datetime                                                                  \n",
       "2015-01-01 00:00:00      10575.0                46.0             2970.0   \n",
       "2015-01-01 01:00:00      10205.0                48.0             3028.0   \n",
       "2015-01-01 02:00:00      10080.0                48.0             3089.0   \n",
       "2015-01-01 03:00:00       9725.0                48.0             3113.0   \n",
       "2015-01-01 04:00:00      10065.0                48.0             3113.0   \n",
       "\n",
       "                     Photovoltaik[MWh]  Sonstige[MWh]  \n",
       "Datetime                                               \n",
       "2015-01-01 00:00:00                0.0         7560.0  \n",
       "2015-01-01 01:00:00                0.0         7130.0  \n",
       "2015-01-01 02:00:00                0.0         6944.0  \n",
       "2015-01-01 03:00:00                0.0         6566.0  \n",
       "2015-01-01 04:00:00                0.0         6906.0  "
      ]
     },
     "execution_count": 86,
     "metadata": {},
     "output_type": "execute_result"
    }
   ],
   "source": [
    "df_small.head()"
   ]
  },
  {
   "cell_type": "code",
   "execution_count": 87,
   "metadata": {},
   "outputs": [
    {
     "data": {
      "text/html": [
       "<div>\n",
       "<style scoped>\n",
       "    .dataframe tbody tr th:only-of-type {\n",
       "        vertical-align: middle;\n",
       "    }\n",
       "\n",
       "    .dataframe tbody tr th {\n",
       "        vertical-align: top;\n",
       "    }\n",
       "\n",
       "    .dataframe thead th {\n",
       "        text-align: right;\n",
       "    }\n",
       "</style>\n",
       "<table border=\"1\" class=\"dataframe\">\n",
       "  <thead>\n",
       "    <tr style=\"text-align: right;\">\n",
       "      <th></th>\n",
       "      <th>Gesamt[MWh]</th>\n",
       "      <th>Wind Offshore[MWh]</th>\n",
       "      <th>Wind Onshore[MWh]</th>\n",
       "      <th>Photovoltaik[MWh]</th>\n",
       "      <th>Sonstige[MWh]</th>\n",
       "    </tr>\n",
       "    <tr>\n",
       "      <th>Datetime</th>\n",
       "      <th></th>\n",
       "      <th></th>\n",
       "      <th></th>\n",
       "      <th></th>\n",
       "      <th></th>\n",
       "    </tr>\n",
       "  </thead>\n",
       "  <tbody>\n",
       "    <tr>\n",
       "      <th>2015-01-01 00:00:00</th>\n",
       "      <td>10575.0</td>\n",
       "      <td>11.0</td>\n",
       "      <td>738.0</td>\n",
       "      <td>0.0</td>\n",
       "      <td>7560.0</td>\n",
       "    </tr>\n",
       "    <tr>\n",
       "      <th>2015-01-01 00:15:00</th>\n",
       "      <td>0.0</td>\n",
       "      <td>11.0</td>\n",
       "      <td>741.0</td>\n",
       "      <td>0.0</td>\n",
       "      <td>0.0</td>\n",
       "    </tr>\n",
       "    <tr>\n",
       "      <th>2015-01-01 00:30:00</th>\n",
       "      <td>0.0</td>\n",
       "      <td>12.0</td>\n",
       "      <td>744.0</td>\n",
       "      <td>0.0</td>\n",
       "      <td>0.0</td>\n",
       "    </tr>\n",
       "    <tr>\n",
       "      <th>2015-01-01 00:45:00</th>\n",
       "      <td>0.0</td>\n",
       "      <td>12.0</td>\n",
       "      <td>747.0</td>\n",
       "      <td>0.0</td>\n",
       "      <td>0.0</td>\n",
       "    </tr>\n",
       "    <tr>\n",
       "      <th>2015-01-01 01:00:00</th>\n",
       "      <td>10205.0</td>\n",
       "      <td>12.0</td>\n",
       "      <td>751.0</td>\n",
       "      <td>0.0</td>\n",
       "      <td>7130.0</td>\n",
       "    </tr>\n",
       "  </tbody>\n",
       "</table>\n",
       "</div>"
      ],
      "text/plain": [
       "                     Gesamt[MWh]  Wind Offshore[MWh]  Wind Onshore[MWh]  \\\n",
       "Datetime                                                                  \n",
       "2015-01-01 00:00:00      10575.0                11.0              738.0   \n",
       "2015-01-01 00:15:00          0.0                11.0              741.0   \n",
       "2015-01-01 00:30:00          0.0                12.0              744.0   \n",
       "2015-01-01 00:45:00          0.0                12.0              747.0   \n",
       "2015-01-01 01:00:00      10205.0                12.0              751.0   \n",
       "\n",
       "                     Photovoltaik[MWh]  Sonstige[MWh]  \n",
       "Datetime                                               \n",
       "2015-01-01 00:00:00                0.0         7560.0  \n",
       "2015-01-01 00:15:00                0.0            0.0  \n",
       "2015-01-01 00:30:00                0.0            0.0  \n",
       "2015-01-01 00:45:00                0.0            0.0  \n",
       "2015-01-01 01:00:00                0.0         7130.0  "
      ]
     },
     "execution_count": 87,
     "metadata": {},
     "output_type": "execute_result"
    }
   ],
   "source": [
    "df.head()"
   ]
  },
  {
   "cell_type": "code",
   "execution_count": 89,
   "metadata": {},
   "outputs": [],
   "source": [
    "df_small.to_csv(\"./Data/Raw Data/Forecasted_generation_short.csv\")"
   ]
  },
  {
   "cell_type": "code",
   "execution_count": null,
   "metadata": {},
   "outputs": [],
   "source": []
  }
 ],
 "metadata": {
  "kernelspec": {
   "display_name": "Python 3",
   "language": "python",
   "name": "python3"
  },
  "language_info": {
   "codemirror_mode": {
    "name": "ipython",
    "version": 3
   },
   "file_extension": ".py",
   "mimetype": "text/x-python",
   "name": "python",
   "nbconvert_exporter": "python",
   "pygments_lexer": "ipython3",
   "version": "3.7.3"
  }
 },
 "nbformat": 4,
 "nbformat_minor": 4
}
