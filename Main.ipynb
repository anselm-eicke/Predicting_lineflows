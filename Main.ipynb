{
 "cells": [
  {
   "cell_type": "code",
   "execution_count": 1,
   "metadata": {},
   "outputs": [
    {
     "name": "stderr",
     "output_type": "stream",
     "text": [
      "\n",
      "Attaching package: 'lubridate'\n",
      "\n",
      "\n",
      "The following objects are masked from 'package:base':\n",
      "\n",
      "    date, intersect, setdiff, union\n",
      "\n",
      "\n",
      "Loading required package: lattice\n",
      "\n",
      "Loading required package: ggplot2\n",
      "\n",
      "\n",
      "Attaching package: 'Metrics'\n",
      "\n",
      "\n",
      "The following objects are masked from 'package:caret':\n",
      "\n",
      "    precision, recall\n",
      "\n",
      "\n",
      "\n",
      "Attaching package: 'vip'\n",
      "\n",
      "\n",
      "The following object is masked from 'package:utils':\n",
      "\n",
      "    vi\n",
      "\n",
      "\n",
      "Loading required package: Formula\n",
      "\n",
      "Loading required package: plotmo\n",
      "\n",
      "Loading required package: plotrix\n",
      "\n",
      "Loading required package: TeachingDemos\n",
      "\n"
     ]
    }
   ],
   "source": [
    "# Load libraries\n",
    "library(foreign)\n",
    "library(lubridate)\n",
    "library(caret)\n",
    "library(Metrics)\n",
    "library(ggplot2)\n",
    "library(vip)\n",
    "library(earth)\n",
    "library(plyr)  \n",
    "library(openxlsx)"
   ]
  },
  {
   "cell_type": "code",
   "execution_count": 2,
   "metadata": {},
   "outputs": [],
   "source": [
    "source(\"1 - Files/methods.r\")\n",
    "source(\"1 - Files/functions.r\")"
   ]
  },
  {
   "cell_type": "code",
   "execution_count": 3,
   "metadata": {},
   "outputs": [],
   "source": [
    "input_file <- \"Input.csv\"\n",
    "size=500\n",
    "output_file <- \"Output.csv\""
   ]
  },
  {
   "cell_type": "markdown",
   "metadata": {},
   "source": [
    "# Preprocessing"
   ]
  },
  {
   "cell_type": "code",
   "execution_count": 23,
   "metadata": {},
   "outputs": [
    {
     "name": "stderr",
     "output_type": "stream",
     "text": [
      "Warning message in scan(file = file, what = what, sep = sep, quote = quote, dec = dec, :\n",
      "\"invalid input found on input connection '2 - Data/Lineload.csv'\"\n",
      "Warning message in scan(file = file, what = what, sep = sep, quote = quote, dec = dec, :\n",
      "\"EOF within quoted string\"\n"
     ]
    },
    {
     "name": "stdout",
     "output_type": "stream",
     "text": [
      "[1] \"The following lines will be excluded because they have more than 400 missing values\"\n",
      " [1] \"Line.293\"     \"Line.294\"     \"Line.304.508\" \"Line.499\"     \"Line.500\"    \n",
      " [6] \"Line.502\"     \"Line.503\"     \"Line.507.306\" \"Line.517\"     \"Line.518\"    \n",
      "[11] \"Line.H\"       \"Line.460\"     \"Line.479\"     \"Line.515\"     \"Line.596\"    \n",
      "[16] \"Line.906\"     \"Line.317..\"   \"Line.331..\"   \"Line.332..\"   \"Line.449.1\"  \n",
      "[21] \"Line.450.2\"   \"Line.491.1\"   \"Line.492.2\"   \"Line.501..\"   \"Line.521..\"  \n",
      "[26] \"Line.952\"     \"Line.NOR.HAN\" \"Line.304\"     \"Line.306\"     \"Line.444\"    \n",
      "[31] \"Line.476\"     \"Line.477\"     \"Line.293.294\" \"Line.413.436\" \"Line.501\"    \n",
      "[36] \"Line.533\"     \"Line.561\"     \"Line.12.514\"  \"Line.321\"     \"Line.510\"    \n",
      "[41] \"Line.512.514\" \"Line.515.516\" \"Line.572.573\" \"Line.NOAU.WS\" \"Line.NODO.BL\"\n",
      "[46] \"Line.NOHA.BL\" \"Line.NOHA.RT\" \"Line.420.424\" \"Line.487\"     \"Line.488\"    \n"
     ]
    }
   ],
   "source": [
    "# read network raw data\n",
    "# read_raw_data()\n",
    "\n",
    "input_data = read_case_data(size, input_file)"
   ]
  },
  {
   "cell_type": "code",
   "execution_count": 24,
   "metadata": {},
   "outputs": [],
   "source": [
    "covariates = input_data$covariates\n",
    "covariates[,-1] = sapply(input_data$covariates[,-1] ,as.numeric)\n",
    "\n",
    "lines = input_data$lines\n",
    "lines[,-1] = sapply(input_data$lines[,-1] ,as.numeric)\n",
    "\n",
    "t_lines = input_data$t_lines\n",
    "\n",
    "methods = input_data$methods"
   ]
  },
  {
   "cell_type": "markdown",
   "metadata": {},
   "source": [
    "# Training and estimation"
   ]
  },
  {
   "cell_type": "code",
   "execution_count": 26,
   "metadata": {},
   "outputs": [
    {
     "name": "stderr",
     "output_type": "stream",
     "text": [
      "Warning message in preProcess.default(method = c(\"center\", \"scale\"), x = structure(c(1454439600, :\n",
      "\"These variables have zero variances: Line.313.lag, Line.314.lag\"\n",
      "Warning message in preProcess.default(thresh = 0.95, k = 5, freqCut = 19, uniqueCut = 10, :\n",
      "\"These variables have zero variances: Line.313.lag, Line.314.lag\"\n",
      "Warning message in preProcess.default(thresh = 0.95, k = 5, freqCut = 19, uniqueCut = 10, :\n",
      "\"These variables have zero variances: Line.313.lag, Line.314.lag\"\n",
      "Warning message in preProcess.default(thresh = 0.95, k = 5, freqCut = 19, uniqueCut = 10, :\n",
      "\"These variables have zero variances: Line.313.lag, Line.314.lag\"\n",
      "Warning message in preProcess.default(thresh = 0.95, k = 5, freqCut = 19, uniqueCut = 10, :\n",
      "\"These variables have zero variances: Line.313.lag, Line.314.lag\"\n",
      "Warning message in preProcess.default(thresh = 0.95, k = 5, freqCut = 19, uniqueCut = 10, :\n",
      "\"These variables have zero variances: Line.313.lag, Line.314.lag\"\n",
      "Warning message in preProcess.default(thresh = 0.95, k = 5, freqCut = 19, uniqueCut = 10, :\n",
      "\"These variables have zero variances: Line.313.lag, Line.314.lag\"\n",
      "Warning message in preProcess.default(thresh = 0.95, k = 5, freqCut = 19, uniqueCut = 10, :\n",
      "\"These variables have zero variances: Line.313.lag, Line.314.lag\"\n",
      "Warning message in preProcess.default(thresh = 0.95, k = 5, freqCut = 19, uniqueCut = 10, :\n",
      "\"These variables have zero variances: Line.313.lag, Line.314.lag\"\n",
      "Warning message in preProcess.default(thresh = 0.95, k = 5, freqCut = 19, uniqueCut = 10, :\n",
      "\"These variables have zero variances: Line.313.lag, Line.314.lag\"\n",
      "Warning message in preProcess.default(thresh = 0.95, k = 5, freqCut = 19, uniqueCut = 10, :\n",
      "\"These variables have zero variances: Line.313.lag, Line.314.lag\"\n",
      "Warning message in preProcess.default(thresh = 0.95, k = 5, freqCut = 19, uniqueCut = 10, :\n",
      "\"These variables have zero variances: Line.313.lag, Line.314.lag\"\n",
      "Warning message in preProcess.default(thresh = 0.95, k = 5, freqCut = 19, uniqueCut = 10, :\n",
      "\"These variables have zero variances: Line.313.lag, Line.314.lag\"\n",
      "Warning message in preProcess.default(thresh = 0.95, k = 5, freqCut = 19, uniqueCut = 10, :\n",
      "\"These variables have zero variances: Line.313.lag, Line.314.lag\"\n",
      "Warning message in preProcess.default(thresh = 0.95, k = 5, freqCut = 19, uniqueCut = 10, :\n",
      "\"These variables have zero variances: Line.313.lag, Line.314.lag\"\n",
      "Warning message in preProcess.default(thresh = 0.95, k = 5, freqCut = 19, uniqueCut = 10, :\n",
      "\"These variables have zero variances: Line.313.lag, Line.314.lag\"\n",
      "Warning message in preProcess.default(thresh = 0.95, k = 5, freqCut = 19, uniqueCut = 10, :\n",
      "\"These variables have zero variances: Line.313.lag, Line.314.lag\"\n",
      "Warning message in preProcess.default(thresh = 0.95, k = 5, freqCut = 19, uniqueCut = 10, :\n",
      "\"These variables have zero variances: Line.313.lag, Line.314.lag\"\n",
      "Warning message in preProcess.default(thresh = 0.95, k = 5, freqCut = 19, uniqueCut = 10, :\n",
      "\"These variables have zero variances: Line.313.lag, Line.314.lag\"\n",
      "Warning message in preProcess.default(thresh = 0.95, k = 5, freqCut = 19, uniqueCut = 10, :\n",
      "\"These variables have zero variances: Line.313.lag, Line.314.lag\"\n",
      "Warning message in preProcess.default(thresh = 0.95, k = 5, freqCut = 19, uniqueCut = 10, :\n",
      "\"These variables have zero variances: Line.313.lag, Line.314.lag\"\n",
      "Warning message in preProcess.default(thresh = 0.95, k = 5, freqCut = 19, uniqueCut = 10, :\n",
      "\"These variables have zero variances: Line.313.lag, Line.314.lag\"\n",
      "Warning message in preProcess.default(thresh = 0.95, k = 5, freqCut = 19, uniqueCut = 10, :\n",
      "\"These variables have zero variances: Line.313.lag, Line.314.lag\"\n",
      "Warning message in preProcess.default(thresh = 0.95, k = 5, freqCut = 19, uniqueCut = 10, :\n",
      "\"These variables have zero variances: Line.313.lag, Line.314.lag\"\n",
      "Warning message in preProcess.default(thresh = 0.95, k = 5, freqCut = 19, uniqueCut = 10, :\n",
      "\"These variables have zero variances: Line.313.lag, Line.314.lag\"\n",
      "Warning message in preProcess.default(thresh = 0.95, k = 5, freqCut = 19, uniqueCut = 10, :\n",
      "\"These variables have zero variances: Line.313.lag, Line.314.lag\"\n",
      "Warning message in preProcess.default(thresh = 0.95, k = 5, freqCut = 19, uniqueCut = 10, :\n",
      "\"These variables have zero variances: Line.313.lag, Line.314.lag\"\n",
      "Warning message in preProcess.default(method = c(\"center\", \"scale\"), x = structure(c(1453316400, :\n",
      "\"These variables have zero variances: Line.313.lag, Line.314.lag\"\n",
      "Warning message in preProcess.default(thresh = 0.95, k = 5, freqCut = 19, uniqueCut = 10, :\n",
      "\"These variables have zero variances: Line.313.lag, Line.314.lag\"\n",
      "Warning message in preProcess.default(thresh = 0.95, k = 5, freqCut = 19, uniqueCut = 10, :\n",
      "\"These variables have zero variances: Line.313.lag, Line.314.lag\"\n",
      "Warning message in preProcess.default(thresh = 0.95, k = 5, freqCut = 19, uniqueCut = 10, :\n",
      "\"These variables have zero variances: Line.313.lag, Line.314.lag\"\n",
      "Warning message in preProcess.default(thresh = 0.95, k = 5, freqCut = 19, uniqueCut = 10, :\n",
      "\"These variables have zero variances: Line.313.lag, Line.314.lag\"\n",
      "Warning message in preProcess.default(thresh = 0.95, k = 5, freqCut = 19, uniqueCut = 10, :\n",
      "\"These variables have zero variances: Line.313.lag, Line.314.lag\"\n",
      "Warning message in preProcess.default(thresh = 0.95, k = 5, freqCut = 19, uniqueCut = 10, :\n",
      "\"These variables have zero variances: Line.313.lag, Line.314.lag\"\n",
      "Warning message in preProcess.default(thresh = 0.95, k = 5, freqCut = 19, uniqueCut = 10, :\n",
      "\"These variables have zero variances: Line.313.lag, Line.314.lag\"\n",
      "Warning message in preProcess.default(thresh = 0.95, k = 5, freqCut = 19, uniqueCut = 10, :\n",
      "\"These variables have zero variances: Line.313.lag, Line.314.lag\"\n",
      "Warning message in preProcess.default(thresh = 0.95, k = 5, freqCut = 19, uniqueCut = 10, :\n",
      "\"These variables have zero variances: Line.313.lag, Line.314.lag\"\n",
      "Warning message in preProcess.default(thresh = 0.95, k = 5, freqCut = 19, uniqueCut = 10, :\n",
      "\"These variables have zero variances: Line.313.lag, Line.314.lag\"\n",
      "Warning message in preProcess.default(thresh = 0.95, k = 5, freqCut = 19, uniqueCut = 10, :\n",
      "\"These variables have zero variances: Line.313.lag, Line.314.lag\"\n",
      "Warning message in preProcess.default(thresh = 0.95, k = 5, freqCut = 19, uniqueCut = 10, :\n",
      "\"These variables have zero variances: Line.313.lag, Line.314.lag\"\n",
      "Warning message in preProcess.default(thresh = 0.95, k = 5, freqCut = 19, uniqueCut = 10, :\n",
      "\"These variables have zero variances: Line.313.lag, Line.314.lag\"\n",
      "Warning message in preProcess.default(thresh = 0.95, k = 5, freqCut = 19, uniqueCut = 10, :\n",
      "\"These variables have zero variances: Line.313.lag, Line.314.lag\"\n",
      "Warning message in preProcess.default(thresh = 0.95, k = 5, freqCut = 19, uniqueCut = 10, :\n",
      "\"These variables have zero variances: Line.313.lag, Line.314.lag\"\n",
      "Warning message in preProcess.default(thresh = 0.95, k = 5, freqCut = 19, uniqueCut = 10, :\n",
      "\"These variables have zero variances: Line.313.lag, Line.314.lag\"\n",
      "Warning message in preProcess.default(thresh = 0.95, k = 5, freqCut = 19, uniqueCut = 10, :\n",
      "\"These variables have zero variances: Line.313.lag, Line.314.lag\"\n",
      "Warning message in preProcess.default(thresh = 0.95, k = 5, freqCut = 19, uniqueCut = 10, :\n",
      "\"These variables have zero variances: Line.313.lag, Line.314.lag\"\n",
      "Warning message in preProcess.default(thresh = 0.95, k = 5, freqCut = 19, uniqueCut = 10, :\n",
      "\"These variables have zero variances: Line.313.lag, Line.314.lag\"\n",
      "Warning message in preProcess.default(thresh = 0.95, k = 5, freqCut = 19, uniqueCut = 10, :\n",
      "\"These variables have zero variances: Line.313.lag, Line.314.lag\"\n",
      "Warning message in preProcess.default(thresh = 0.95, k = 5, freqCut = 19, uniqueCut = 10, :\n",
      "\"These variables have zero variances: Line.313.lag, Line.314.lag\"\n",
      "Warning message in preProcess.default(thresh = 0.95, k = 5, freqCut = 19, uniqueCut = 10, :\n",
      "\"These variables have zero variances: Line.313.lag, Line.314.lag\"\n",
      "Warning message in preProcess.default(thresh = 0.95, k = 5, freqCut = 19, uniqueCut = 10, :\n",
      "\"These variables have zero variances: Line.313.lag, Line.314.lag\"\n",
      "Warning message in preProcess.default(thresh = 0.95, k = 5, freqCut = 19, uniqueCut = 10, :\n",
      "\"These variables have zero variances: Line.313.lag, Line.314.lag\"\n"
     ]
    },
    {
     "name": "stderr",
     "output_type": "stream",
     "text": [
      "Warning message in preProcess.default(thresh = 0.95, k = 5, freqCut = 19, uniqueCut = 10, :\n",
      "\"These variables have zero variances: Line.313.lag, Line.314.lag\"\n",
      "Warning message in preProcess.default(thresh = 0.95, k = 5, freqCut = 19, uniqueCut = 10, :\n",
      "\"These variables have zero variances: Line.313.lag, Line.314.lag\"\n"
     ]
    }
   ],
   "source": [
    "set.seed(123)  \n",
    "results = data.frame(row.names = t_lines)\n",
    "\n",
    "for (line in c(t_lines)){ # \n",
    "    \n",
    "    #add lagged line if not included in covariates and delete NAs\n",
    "    covariates_l <- covariates\n",
    "    covariates_l <- merge(covariates_l, lines[,c(\"Time\",line)] ,by=\"Time\")\n",
    "    if (!(paste(line, \".lag\", sep=\"\") %in% names(covariates_l))){\n",
    "        covariates_l <- merge(covariates_l, lagged(lines[,c(\"Time\",line)]), by=\"Time\")\n",
    "    }\n",
    "    covariates_l <- na.omit(covariates_l)\n",
    "    \n",
    "    # select training and test data\n",
    "    trainingRowIndex <- sample(1:nrow(covariates_l), 0.7*nrow(covariates_l))  \n",
    "    trainingData <- covariates_l[sample(trainingRowIndex, min(size, nrow(trainingRowIndex))), ]  \n",
    "    testData  <- covariates_l[-trainingRowIndex, ] \n",
    "    \n",
    "    # perform training and estimation\n",
    "    for (method in methods){\n",
    "        if (method == \"MARS\") {\n",
    "            results[line, method] <- mars(line, trainingData, testData)\n",
    "            \n",
    "        } else if (method == \"Linear regression\") {\n",
    "            results[line, method] <- lin_reg(line, trainingData, testData)\n",
    "        \n",
    "        } else if (method == \"Random forest\") {\n",
    "            results[line, method] <- ran_forest(line, trainingData, testData)\n",
    "            \n",
    "        } else if (method == \"Multiple linear regression\") {\n",
    "            print('Function is not implemented yet')\n",
    "            \n",
    "        } else if (method == \"kNN\") {\n",
    "            results[line, method] <- kNN(line, trainingData, testData)\n",
    "            \n",
    "        } else if (method == \"Support vector regression\") {\n",
    "            results[line, method] <- SVR(line, trainingData, testData)   \n",
    "        }\n",
    "    }\n",
    "}"
   ]
  },
  {
   "cell_type": "markdown",
   "metadata": {},
   "source": [
    "# Return results"
   ]
  },
  {
   "cell_type": "code",
   "execution_count": 158,
   "metadata": {},
   "outputs": [
    {
     "ename": "ERROR",
     "evalue": "Error in write.xlsx(input, input_file, sheetName = \"Input\", col.names = TRUE, : could not find function \"write.xlsx\"\n",
     "output_type": "error",
     "traceback": [
      "Error in write.xlsx(input, input_file, sheetName = \"Input\", col.names = TRUE, : could not find function \"write.xlsx\"\nTraceback:\n"
     ]
    }
   ],
   "source": [
    "input <- read.csv(input_file, fileEncoding=\"UTF-8-BOM\")\n",
    "\n",
    "write.xlsx(\n",
    "      input,\n",
    "      input_file,\n",
    "      sheetName = 'Input',\n",
    "      col.names = TRUE,\n",
    "      row.names = TRUE,\n",
    "      append = TRUE,\n",
    "    )\n",
    "\n",
    "for (method in methods){\n",
    "    write.xlsx(\n",
    "      results[method],\n",
    "      output_file,\n",
    "      sheetName = String(method),\n",
    "      col.names = TRUE,\n",
    "      row.names = TRUE,\n",
    "      append = TRUE,\n",
    "    )\n",
    "}"
   ]
  },
  {
   "cell_type": "code",
   "execution_count": null,
   "metadata": {},
   "outputs": [],
   "source": []
  }
 ],
 "metadata": {
  "kernelspec": {
   "display_name": "R",
   "language": "R",
   "name": "ir"
  },
  "language_info": {
   "codemirror_mode": "r",
   "file_extension": ".r",
   "mimetype": "text/x-r-source",
   "name": "R",
   "pygments_lexer": "r",
   "version": "4.0.1"
  }
 },
 "nbformat": 4,
 "nbformat_minor": 4
}
